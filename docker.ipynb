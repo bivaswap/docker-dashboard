{
 "cells": [
  {
   "cell_type": "code",
   "execution_count": 3,
   "metadata": {},
   "outputs": [
    {
     "name": "stdout",
     "output_type": "stream",
     "text": [
      "caa3f9548b f360232936 microblog running\n",
      "\n",
      "++++++++++++++++++++\n",
      "<bound method Container.stats of <Container: caa3f9548b>>\n",
      "++++++++++++++++++++\n",
      "<type 'instancemethod'>\n",
      "++++++++++++++++++++\n",
      "\n"
     ]
    },
    {
     "data": {
      "text/plain": [
       "{u'Dead': False,\n",
       " u'Error': u'',\n",
       " u'ExitCode': 0,\n",
       " u'FinishedAt': u'0001-01-01T00:00:00Z',\n",
       " u'OOMKilled': False,\n",
       " u'Paused': False,\n",
       " u'Pid': 2732,\n",
       " u'Restarting': False,\n",
       " u'Running': True,\n",
       " u'StartedAt': u'2018-12-27T17:30:14.298015716Z',\n",
       " u'Status': u'running'}"
      ]
     },
     "execution_count": 3,
     "metadata": {},
     "output_type": "execute_result"
    }
   ],
   "source": [
    "import docker\n",
    "\n",
    "client = docker.from_env()\n",
    "for i in client.containers.list('all'):\n",
    "    print i.short_id, i.image.short_id.encode('utf-8')[7:], i.name, i.status\n",
    "\n",
    "print ''\n",
    "print \"++++++++++++++++++++\"\n",
    "print (i.stats)\n",
    "print \"++++++++++++++++++++\"\n",
    "print type(i.stats)\n",
    "print \"++++++++++++++++++++\"\n",
    "print ''\n",
    "dir(i.image)\n",
    "client.api.inspect_container('caa3f9548b')['State']"
   ]
  },
  {
   "cell_type": "code",
   "execution_count": 179,
   "metadata": {},
   "outputs": [
    {
     "name": "stdout",
     "output_type": "stream",
     "text": [
      "[u'postgres:10']\n",
      "[u'ansible-client-img:latest']\n",
      "[u'testimage:latest']\n",
      "[u'hello-world:latest', u'hello-world:linux']\n",
      "[u'ubuntu:16.04']\n",
      "<type 'int'>\n"
     ]
    }
   ],
   "source": [
    "import docker\n",
    "\n",
    "client = docker.DockerClient(base_url='unix://var/run/docker.sock')\n",
    "for i in client.images.list():\n",
    "    print i.attrs['RepoTags']\n",
    "    \n",
    "# print dir(i.short_id)\n",
    "# print i.attrs['RepoTags']\n",
    "print type(i.attrs['VirtualSize'])"
   ]
  },
  {
   "cell_type": "code",
   "execution_count": 13,
   "metadata": {},
   "outputs": [
    {
     "data": {
      "text/plain": [
       "'1.0 KB'"
      ]
     },
     "execution_count": 13,
     "metadata": {},
     "output_type": "execute_result"
    }
   ],
   "source": [
    "def sizeof(num, suffix='B'):\n",
    "    for unit in ['','K','M','G','T','P','E','Z']:\n",
    "        if abs(num) < 1024.0:\n",
    "            return \"%3.1f %s%s\" % (num, unit, suffix)\n",
    "        num /= 1024.0\n",
    "    return \"%.1f%s%s\" % (num, 'Yi', suffix)\n",
    "\n",
    "sizeof(1024)\n"
   ]
  },
  {
   "cell_type": "code",
   "execution_count": 6,
   "metadata": {},
   "outputs": [
    {
     "name": "stdout",
     "output_type": "stream",
     "text": [
      "nginx\n",
      "jwilder/nginx-proxy\n",
      "jrcs/letsencrypt-nginx-proxy-companion\n",
      "bitnami/nginx\n",
      "richarvey/nginx-php-fpm\n",
      "kong\n",
      "webdevops/php-nginx\n",
      "tobi312/rpi-nginx\n",
      "zabbix/zabbix-web-nginx-mysql\n",
      "mailu/nginx\n",
      "centos/nginx-18-centos7\n",
      "wodby/drupal-nginx\n",
      "nginxdemos/hello\n",
      "linuxserver/nginx\n",
      "ansibleplaybookbundle/nginx-apb\n",
      "blacklabelops/nginx\n",
      "wodby/nginx\n",
      "centos/nginx-112-centos7\n",
      "nginx/nginx-ingress\n",
      "toccoag/openshift-nginx\n",
      "1science/nginx\n",
      "1and1internet/ubuntu-16-nginx-php-phpmyadmin-mysql-5\n",
      "travix/nginx\n",
      "kitematic/hello-world-nginx\n",
      "pebbletech/nginx-proxy\n"
     ]
    }
   ],
   "source": [
    "import docker\n",
    "\n",
    "client = docker.DockerClient(base_url='unix://var/run/docker.sock')\n",
    "search = client.images.search('nginx')\n",
    "\n",
    "for i in search:\n",
    "    print i['name']"
   ]
  }
 ],
 "metadata": {
  "kernelspec": {
   "display_name": "Python 2",
   "language": "python",
   "name": "python2"
  },
  "language_info": {
   "codemirror_mode": {
    "name": "ipython",
    "version": 2
   },
   "file_extension": ".py",
   "mimetype": "text/x-python",
   "name": "python",
   "nbconvert_exporter": "python",
   "pygments_lexer": "ipython2",
   "version": "2.7.12"
  }
 },
 "nbformat": 4,
 "nbformat_minor": 2
}
